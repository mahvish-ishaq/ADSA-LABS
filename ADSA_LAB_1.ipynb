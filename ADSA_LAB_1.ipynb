{
  "nbformat": 4,
  "nbformat_minor": 0,
  "metadata": {
    "colab": {
      "provenance": []
    },
    "kernelspec": {
      "name": "python3",
      "display_name": "Python 3"
    },
    "language_info": {
      "name": "python"
    }
  },
  "cells": [
    {
      "cell_type": "code",
      "source": [
        "# NAME : MAHVISH ISHAQ\n",
        "# DATE : 17 OCTOBER 2025    M.TECH (CSE)\n",
        "\n",
        "# ADSA LAB 1\n",
        "\n",
        "# IMPLEMENT A SINGLY LINKED LIST TO MANAGE PATIENT DETAILS(NAME,AGE,ID). PERFORM INSERTION , DELETION OPERATIONS."
      ],
      "metadata": {
        "id": "V-_CiSWa09dA"
      },
      "execution_count": null,
      "outputs": []
    },
    {
      "cell_type": "code",
      "source": [
        "class node:\n",
        "  def __init__(self, name, age, p_id):\n",
        "    self.name=name\n",
        "    self.age=age\n",
        "    self.p_id=p_id\n",
        "    self.next=None\n",
        "\n",
        "class PatientList:\n",
        "  def __init__(self):\n",
        "    self.head=None\n",
        "\n",
        "  def insert_pat(self, name, age, p_id):\n",
        "    new_node=node(name, age, p_id)\n",
        "    if not self.head:\n",
        "      self.head=new_node\n",
        "    else:\n",
        "      current = self.head\n",
        "      while current.next:\n",
        "        current = current.next\n",
        "      current.next=new_node\n",
        "    print(f\"Inserted Name: {name}, Age:{age}, Pateint:{p_id}\")\n",
        "\n",
        "  def delete_pat(self, p_id):\n",
        "    current=self.head\n",
        "    prev=None\n",
        "    while current:\n",
        "      if current.p_id==p_id:\n",
        "        if prev:\n",
        "          prev.next=current.next\n",
        "        else:\n",
        "          self.head=current.next\n",
        "        print(f\"Delete Patient:{p_id}\")\n",
        "        return\n",
        "      prev = current\n",
        "      current = current.next\n",
        "    print(f\"Pateint with {p_id} not found\")\n",
        "\n",
        "  def display_pat(self):\n",
        "    current=self.head\n",
        "    if not current:\n",
        "      print(\"No Patients\")\n",
        "      return\n",
        "    print(\"Patients list:\")\n",
        "    while current:\n",
        "      print(f\"Name:{current.name}, Age:{current.age}, P_ID:{current.p_id}\")\n",
        "      current=current.next\n",
        "\n",
        "plist=PatientList()\n",
        "plist.insert_pat(\"Ramesh\",45,100)\n",
        "plist.insert_pat(\"Dharmesh\",40,101)\n",
        "plist.insert_pat(\"Suresh\",55,102)\n",
        "plist.insert_pat(\"Ritesh\",80,103)\n",
        "plist.display_pat()\n",
        "plist.delete_pat(101)\n",
        "plist.display_pat()"
      ],
      "metadata": {
        "colab": {
          "base_uri": "https://localhost:8080/"
        },
        "id": "YHde2PP3zgrp",
        "outputId": "62c2e364-622e-4d52-a6d2-5583af01289c"
      },
      "execution_count": null,
      "outputs": [
        {
          "output_type": "stream",
          "name": "stdout",
          "text": [
            "Inserted Name: Ramesh, Age:45, Pateint:100\n",
            "Inserted Name: Dharmesh, Age:40, Pateint:101\n",
            "Inserted Name: Suresh, Age:55, Pateint:102\n",
            "Inserted Name: Ritesh, Age:80, Pateint:103\n",
            "Patients list:\n",
            "Name:Ramesh, Age:45, P_ID:100\n",
            "Name:Dharmesh, Age:40, P_ID:101\n",
            "Name:Suresh, Age:55, P_ID:102\n",
            "Name:Ritesh, Age:80, P_ID:103\n",
            "Delete Patient:101\n",
            "Patients list:\n",
            "Name:Ramesh, Age:45, P_ID:100\n",
            "Name:Suresh, Age:55, P_ID:102\n",
            "Name:Ritesh, Age:80, P_ID:103\n"
          ]
        }
      ]
    }
  ]
}