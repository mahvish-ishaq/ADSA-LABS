{
  "nbformat": 4,
  "nbformat_minor": 0,
  "metadata": {
    "colab": {
      "provenance": []
    },
    "kernelspec": {
      "name": "python3",
      "display_name": "Python 3"
    },
    "language_info": {
      "name": "python"
    }
  },
  "cells": [
    {
      "cell_type": "code",
      "source": [
        "'''   ADSA LAB 3\n",
        "Name: MAHVISH ISHAQ          Hall Ticket No.: 2503B05134        Date: 31/10/2025\n",
        "'''"
      ],
      "metadata": {
        "id": "9Wzj-Bhy1OpR"
      },
      "execution_count": null,
      "outputs": []
    },
    {
      "cell_type": "code",
      "metadata": {
        "colab": {
          "base_uri": "https://localhost:8080/"
        },
        "id": "509cf65c",
        "outputId": "4f131631-048b-40dc-941c-c6486c9d3336"
      },
      "source": [
        " # Create an Undo Redo System using two Stacks. Implement Push, Pop and Display Operations\n",
        "\n",
        "class UndoRedoSystem:\n",
        "    def __init__(self):\n",
        "      self.undo_stack = []\n",
        "      self.redo_stack = []\n",
        "\n",
        "    def push(self, item):\n",
        "        self.undo_stack.append(item)\n",
        "        self.redo_stack = [] # Clear redo stack on new action\n",
        "\n",
        "    def pop(self):\n",
        "        if self.undo_stack:\n",
        "            item = self.undo_stack.pop()\n",
        "            self.redo_stack.append(item)\n",
        "            return item\n",
        "        else:\n",
        "            return \"Undo stack is empty\"\n",
        "\n",
        "    def redo(self):\n",
        "        if self.redo_stack:\n",
        "            item = self.redo_stack.pop()\n",
        "            self.undo_stack.append(item)\n",
        "            return item\n",
        "        else:\n",
        "            return \"Redo stack is empty\"\n",
        "\n",
        "    def display(self):\n",
        "        print(\"Undo Stack:\", self.undo_stack)\n",
        "        print(\"Redo Stack:\", self.redo_stack)\n",
        "\n",
        "# Test the UndoRedoSystem\n",
        "undo_redo = UndoRedoSystem()\n",
        "\n",
        "# Perform some actions (push)\n",
        "undo_redo.push(\"Action 1\")\n",
        "undo_redo.push(\"Action 2\")\n",
        "undo_redo.push(\"Action 3\")\n",
        "\n",
        "# Display the stacks\n",
        "print(\"After pushing actions:\")\n",
        "undo_redo.display()\n",
        "\n",
        "# Undo an action (pop)\n",
        "undo_redo.pop()\n",
        "\n",
        "# Display the stacks after undo\n",
        "print(\"\\nAfter undoing an action:\")\n",
        "undo_redo.display()\n",
        "\n",
        "# Undo another action (pop)\n",
        "undo_redo.pop()\n",
        "\n",
        "# Display the stacks after another undo\n",
        "print(\"\\nAfter undoing another action:\")\n",
        "undo_redo.display()\n",
        "\n",
        "# Redo an action\n",
        "undo_redo.redo()\n",
        "\n",
        "# Display the stacks after redo\n",
        "print(\"\\nAfter redoing an action:\")\n",
        "undo_redo.display()\n",
        "\n",
        "# Redo another action\n",
        "undo_redo.redo()\n",
        "\n",
        "# Display the stacks after another redo\n",
        "print(\"\\nAfter redoing another action:\")\n",
        "undo_redo.display()\n",
        "\n",
        "# Push a new action after undoing\n",
        "undo_redo.push(\"New Action 4\")\n",
        "\n",
        "# Display the stacks after pushing a new action\n",
        "print(\"\\nAfter pushing a new action:\")\n",
        "undo_redo.display()\n",
        "\n",
        "# Try to redo after pushing a new action (should be empty)\n",
        "print(\"\\nTrying to redo after pushing a new action:\")\n",
        "print(undo_redo.redo())\n",
        "\n",
        "# Try to undo when the undo stack is empty\n",
        "while undo_redo.undo_stack:\n",
        "    undo_redo.pop()\n",
        "\n",
        "print(\"\\nTrying to undo when undo stack is empty:\")\n",
        "print(undo_redo.pop())"
      ],
      "execution_count": null,
      "outputs": [
        {
          "output_type": "stream",
          "name": "stdout",
          "text": [
            "After pushing actions:\n",
            "Undo Stack: ['Action 1', 'Action 2', 'Action 3']\n",
            "Redo Stack: []\n",
            "\n",
            "After undoing an action:\n",
            "Undo Stack: ['Action 1', 'Action 2']\n",
            "Redo Stack: ['Action 3']\n",
            "\n",
            "After undoing another action:\n",
            "Undo Stack: ['Action 1']\n",
            "Redo Stack: ['Action 3', 'Action 2']\n",
            "\n",
            "After redoing an action:\n",
            "Undo Stack: ['Action 1', 'Action 2']\n",
            "Redo Stack: ['Action 3']\n",
            "\n",
            "After redoing another action:\n",
            "Undo Stack: ['Action 1', 'Action 2', 'Action 3']\n",
            "Redo Stack: []\n",
            "\n",
            "After pushing a new action:\n",
            "Undo Stack: ['Action 1', 'Action 2', 'Action 3', 'New Action 4']\n",
            "Redo Stack: []\n",
            "\n",
            "Trying to redo after pushing a new action:\n",
            "Redo stack is empty\n",
            "\n",
            "Trying to undo when undo stack is empty:\n",
            "Undo stack is empty\n"
          ]
        }
      ]
    }
  ]
}